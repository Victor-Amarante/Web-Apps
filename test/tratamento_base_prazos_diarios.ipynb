{
 "cells": [
  {
   "cell_type": "code",
   "execution_count": 1,
   "metadata": {},
   "outputs": [],
   "source": [
    "import pandas as pd\n",
    "import numpy as np\n",
    "from datetime import date, time, datetime, timedelta"
   ]
  },
  {
   "cell_type": "code",
   "execution_count": 9,
   "metadata": {},
   "outputs": [],
   "source": [
    "from biblioteca_qca import tratamento_prazos_diarios_agendados"
   ]
  },
  {
   "cell_type": "code",
   "execution_count": 27,
   "metadata": {},
   "outputs": [],
   "source": [
    "tratamento_prazos_diarios('base1302_agendados.xlsx', 'centro_de_custo.xlsx')"
   ]
  },
  {
   "cell_type": "code",
   "execution_count": 2,
   "metadata": {},
   "outputs": [],
   "source": [
    "hoje = date.today()"
   ]
  },
  {
   "cell_type": "code",
   "execution_count": 3,
   "metadata": {},
   "outputs": [
    {
     "name": "stderr",
     "output_type": "stream",
     "text": [
      "c:\\Users\\victoramarante\\AppData\\Local\\Programs\\Python\\Python311\\Lib\\site-packages\\openpyxl\\styles\\stylesheet.py:226: UserWarning: Workbook contains no default style, apply openpyxl's default\n",
      "  warn(\"Workbook contains no default style, apply openpyxl's default\")\n"
     ]
    }
   ],
   "source": [
    "df = pd.read_excel('base1402_agendados.xlsx', engine='openpyxl')"
   ]
  },
  {
   "cell_type": "code",
   "execution_count": 4,
   "metadata": {},
   "outputs": [
    {
     "data": {
      "text/html": [
       "<div>\n",
       "<style scoped>\n",
       "    .dataframe tbody tr th:only-of-type {\n",
       "        vertical-align: middle;\n",
       "    }\n",
       "\n",
       "    .dataframe tbody tr th {\n",
       "        vertical-align: top;\n",
       "    }\n",
       "\n",
       "    .dataframe thead th {\n",
       "        text-align: right;\n",
       "    }\n",
       "</style>\n",
       "<table border=\"1\" class=\"dataframe\">\n",
       "  <thead>\n",
       "    <tr style=\"text-align: right;\">\n",
       "      <th></th>\n",
       "      <th>ID Processo</th>\n",
       "      <th>ID Prazo</th>\n",
       "      <th>NPC</th>\n",
       "      <th>Data Cadastro Prazo</th>\n",
       "      <th>Data do Prazo</th>\n",
       "      <th>Hora do Prazo</th>\n",
       "      <th>Tipo de Atividade</th>\n",
       "      <th>Sub Tipo Compromisso</th>\n",
       "      <th>Parte Cliente</th>\n",
       "      <th>Parte Adversa</th>\n",
       "      <th>...</th>\n",
       "      <th>Tipo</th>\n",
       "      <th>Subtipo do serviço</th>\n",
       "      <th>Data da contratação</th>\n",
       "      <th>Hora da contratação</th>\n",
       "      <th>Status do serviço</th>\n",
       "      <th>Status Sugestão alteração/cancelamento</th>\n",
       "      <th>Vinculado ao Recurso?</th>\n",
       "      <th>ID Recurso</th>\n",
       "      <th>Projeto</th>\n",
       "      <th>Link de Acesso à Audiência</th>\n",
       "    </tr>\n",
       "  </thead>\n",
       "  <tbody>\n",
       "    <tr>\n",
       "      <th>0</th>\n",
       "      <td>510525</td>\n",
       "      <td>5328672</td>\n",
       "      <td>NaN</td>\n",
       "      <td>2023-02-13</td>\n",
       "      <td>2023-02-15</td>\n",
       "      <td>00:00:00</td>\n",
       "      <td>Prazo</td>\n",
       "      <td>Memoriais</td>\n",
       "      <td>IPIRANGA PRODUTOS DE PETROLEO</td>\n",
       "      <td>ANTONIO MADSON AREIAS DA SILVA</td>\n",
       "      <td>...</td>\n",
       "      <td>NaN</td>\n",
       "      <td>NaN</td>\n",
       "      <td>NaT</td>\n",
       "      <td>NaN</td>\n",
       "      <td>NaN</td>\n",
       "      <td>NaN</td>\n",
       "      <td>Nao</td>\n",
       "      <td>0</td>\n",
       "      <td>NaN</td>\n",
       "      <td>NaN</td>\n",
       "    </tr>\n",
       "    <tr>\n",
       "      <th>1</th>\n",
       "      <td>843885</td>\n",
       "      <td>5332972</td>\n",
       "      <td>1154474</td>\n",
       "      <td>2023-02-13</td>\n",
       "      <td>2023-05-25</td>\n",
       "      <td>11:10:00</td>\n",
       "      <td>Prazo</td>\n",
       "      <td>Contestação - Com Audiência</td>\n",
       "      <td>VIA VAREJO ONLINE</td>\n",
       "      <td>ADELMO AVELINO PEREIRA</td>\n",
       "      <td>...</td>\n",
       "      <td>NaN</td>\n",
       "      <td>NaN</td>\n",
       "      <td>NaT</td>\n",
       "      <td>NaN</td>\n",
       "      <td>NaN</td>\n",
       "      <td>NaN</td>\n",
       "      <td>Nao</td>\n",
       "      <td>0</td>\n",
       "      <td>NaN</td>\n",
       "      <td>NaN</td>\n",
       "    </tr>\n",
       "    <tr>\n",
       "      <th>2</th>\n",
       "      <td>843659</td>\n",
       "      <td>5329501</td>\n",
       "      <td>1154157</td>\n",
       "      <td>2023-02-13</td>\n",
       "      <td>2023-03-27</td>\n",
       "      <td>16:00:00</td>\n",
       "      <td>Prazo</td>\n",
       "      <td>Contestação - Com Audiência</td>\n",
       "      <td>Via Varejo S/A</td>\n",
       "      <td>ADAILTON SALES DE OLIVEIRA</td>\n",
       "      <td>...</td>\n",
       "      <td>NaN</td>\n",
       "      <td>NaN</td>\n",
       "      <td>NaT</td>\n",
       "      <td>NaN</td>\n",
       "      <td>NaN</td>\n",
       "      <td>NaN</td>\n",
       "      <td>Nao</td>\n",
       "      <td>0</td>\n",
       "      <td>NaN</td>\n",
       "      <td>NaN</td>\n",
       "    </tr>\n",
       "    <tr>\n",
       "      <th>3</th>\n",
       "      <td>843665</td>\n",
       "      <td>5329623</td>\n",
       "      <td>1154319</td>\n",
       "      <td>2023-02-13</td>\n",
       "      <td>2023-05-22</td>\n",
       "      <td>08:50:00</td>\n",
       "      <td>Prazo</td>\n",
       "      <td>Contestação - Com Audiência</td>\n",
       "      <td>Via Varejo S/A</td>\n",
       "      <td>GEDEVAL RAMOS DE JESUS FILHO</td>\n",
       "      <td>...</td>\n",
       "      <td>NaN</td>\n",
       "      <td>NaN</td>\n",
       "      <td>NaT</td>\n",
       "      <td>NaN</td>\n",
       "      <td>NaN</td>\n",
       "      <td>NaN</td>\n",
       "      <td>Nao</td>\n",
       "      <td>0</td>\n",
       "      <td>NaN</td>\n",
       "      <td>NaN</td>\n",
       "    </tr>\n",
       "    <tr>\n",
       "      <th>4</th>\n",
       "      <td>843441</td>\n",
       "      <td>5327649</td>\n",
       "      <td>1154155</td>\n",
       "      <td>2023-02-13</td>\n",
       "      <td>2023-03-17</td>\n",
       "      <td>10:10:00</td>\n",
       "      <td>Prazo</td>\n",
       "      <td>Contestação - Com Audiência</td>\n",
       "      <td>Via Varejo S/A</td>\n",
       "      <td>ELICLEIA BARBOSA DOS SANTOS</td>\n",
       "      <td>...</td>\n",
       "      <td>NaN</td>\n",
       "      <td>NaN</td>\n",
       "      <td>NaT</td>\n",
       "      <td>NaN</td>\n",
       "      <td>NaN</td>\n",
       "      <td>NaN</td>\n",
       "      <td>Nao</td>\n",
       "      <td>0</td>\n",
       "      <td>NaN</td>\n",
       "      <td>NaN</td>\n",
       "    </tr>\n",
       "  </tbody>\n",
       "</table>\n",
       "<p>5 rows × 66 columns</p>\n",
       "</div>"
      ],
      "text/plain": [
       "   ID Processo  ID Prazo      NPC Data Cadastro Prazo Data do Prazo  \\\n",
       "0       510525   5328672      NaN          2023-02-13    2023-02-15   \n",
       "1       843885   5332972  1154474          2023-02-13    2023-05-25   \n",
       "2       843659   5329501  1154157          2023-02-13    2023-03-27   \n",
       "3       843665   5329623  1154319          2023-02-13    2023-05-22   \n",
       "4       843441   5327649  1154155          2023-02-13    2023-03-17   \n",
       "\n",
       "  Hora do Prazo Tipo de Atividade         Sub Tipo Compromisso  \\\n",
       "0      00:00:00             Prazo                    Memoriais   \n",
       "1      11:10:00             Prazo  Contestação - Com Audiência   \n",
       "2      16:00:00             Prazo  Contestação - Com Audiência   \n",
       "3      08:50:00             Prazo  Contestação - Com Audiência   \n",
       "4      10:10:00             Prazo  Contestação - Com Audiência   \n",
       "\n",
       "                   Parte Cliente                   Parte Adversa  ... Tipo  \\\n",
       "0  IPIRANGA PRODUTOS DE PETROLEO  ANTONIO MADSON AREIAS DA SILVA  ...  NaN   \n",
       "1             VIA VAREJO ONLINE           ADELMO AVELINO PEREIRA  ...  NaN   \n",
       "2                 Via Varejo S/A      ADAILTON SALES DE OLIVEIRA  ...  NaN   \n",
       "3                 Via Varejo S/A    GEDEVAL RAMOS DE JESUS FILHO  ...  NaN   \n",
       "4                 Via Varejo S/A     ELICLEIA BARBOSA DOS SANTOS  ...  NaN   \n",
       "\n",
       "  Subtipo do serviço Data da contratação Hora da contratação  \\\n",
       "0                NaN                 NaT                 NaN   \n",
       "1                NaN                 NaT                 NaN   \n",
       "2                NaN                 NaT                 NaN   \n",
       "3                NaN                 NaT                 NaN   \n",
       "4                NaN                 NaT                 NaN   \n",
       "\n",
       "  Status do serviço Status Sugestão alteração/cancelamento  \\\n",
       "0               NaN                                    NaN   \n",
       "1               NaN                                    NaN   \n",
       "2               NaN                                    NaN   \n",
       "3               NaN                                    NaN   \n",
       "4               NaN                                    NaN   \n",
       "\n",
       "  Vinculado ao Recurso? ID Recurso Projeto Link de Acesso à Audiência  \n",
       "0                   Nao          0     NaN                        NaN  \n",
       "1                   Nao          0     NaN                        NaN  \n",
       "2                   Nao          0     NaN                        NaN  \n",
       "3                   Nao          0     NaN                        NaN  \n",
       "4                   Nao          0     NaN                        NaN  \n",
       "\n",
       "[5 rows x 66 columns]"
      ]
     },
     "execution_count": 4,
     "metadata": {},
     "output_type": "execute_result"
    }
   ],
   "source": [
    "df.head()"
   ]
  },
  {
   "cell_type": "code",
   "execution_count": 5,
   "metadata": {},
   "outputs": [
    {
     "data": {
      "text/plain": [
       "ID Processo                                        int64\n",
       "ID Prazo                                           int64\n",
       "NPC                                               object\n",
       "Data Cadastro Prazo                       datetime64[ns]\n",
       "Data do Prazo                             datetime64[ns]\n",
       "                                               ...      \n",
       "Status Sugestão alteração/cancelamento            object\n",
       "Vinculado ao Recurso?                             object\n",
       "ID Recurso                                         int64\n",
       "Projeto                                           object\n",
       "Link de Acesso à Audiência                        object\n",
       "Length: 66, dtype: object"
      ]
     },
     "execution_count": 5,
     "metadata": {},
     "output_type": "execute_result"
    }
   ],
   "source": [
    "df.dtypes"
   ]
  },
  {
   "cell_type": "code",
   "execution_count": 6,
   "metadata": {},
   "outputs": [
    {
     "data": {
      "text/plain": [
       "(2111, 66)"
      ]
     },
     "execution_count": 6,
     "metadata": {},
     "output_type": "execute_result"
    }
   ],
   "source": [
    "df.shape"
   ]
  },
  {
   "cell_type": "code",
   "execution_count": 7,
   "metadata": {},
   "outputs": [],
   "source": [
    "# dropando colunas que nao serao usadas\n",
    "df = df.drop(['NPC', 'Número do Órgão', 'Sistema Acompanhamento', 'Responsável Cancelamento',\n",
    "                          'ID Obrigação', 'Observação ', 'Observação da conclusão', 'Projeto',\n",
    "                          'Link de Acesso à Audiência'],\n",
    "                          axis=1)"
   ]
  },
  {
   "cell_type": "code",
   "execution_count": 8,
   "metadata": {},
   "outputs": [],
   "source": [
    "# criando duas novas colunas vazias\n",
    "df[' '] = ' '\n",
    "df[' '] = ' '"
   ]
  },
  {
   "cell_type": "code",
   "execution_count": 9,
   "metadata": {},
   "outputs": [
    {
     "data": {
      "text/plain": [
       "(2111, 58)"
      ]
     },
     "execution_count": 9,
     "metadata": {},
     "output_type": "execute_result"
    }
   ],
   "source": [
    "df.shape"
   ]
  },
  {
   "cell_type": "code",
   "execution_count": 10,
   "metadata": {},
   "outputs": [],
   "source": [
    "# selecionar o tipo de atividade = diligencia e nao selecionar os protocolos e apagar todas as linhas\n",
    "df_remove = df[(df['Tipo de Atividade'] == 'Diligência') &\n",
    "    (df['Sub Tipo Compromisso'].str.contains('Protocolo') == False)]"
   ]
  },
  {
   "cell_type": "code",
   "execution_count": 11,
   "metadata": {},
   "outputs": [],
   "source": [
    "df = df.drop(df_remove.index)"
   ]
  },
  {
   "cell_type": "code",
   "execution_count": 12,
   "metadata": {},
   "outputs": [],
   "source": [
    "centro_custo = pd.read_excel('centro_de_custo.xlsx', engine='openpyxl')"
   ]
  },
  {
   "cell_type": "code",
   "execution_count": 13,
   "metadata": {},
   "outputs": [],
   "source": [
    "df_ajustado = pd.merge(df, centro_custo, on='Célula', how='left')\n",
    "df_ajustado.drop(['Centro de Custo_x', 'Gestor', 'Diretoria', 'Escritorio'], axis=1, inplace=True)\n",
    "\n",
    "df_ajustado = df_ajustado[['ID Processo', 'ID Prazo', 'Data Cadastro Prazo', 'Data do Prazo','Hora do Prazo', 'Tipo de Atividade', 'Sub Tipo Compromisso','Parte Cliente', 'Parte Adversa', 'Número do Processo', 'Órgão',\n",
    "       'Comarca', 'UF', 'Tipo de Processo', 'Sistema Eletrônico','Status do Prazo', 'Data Inicio Compromisso', 'Data Conclusão','Data Protocolo', 'Data Auditoria Protocolo', 'Prazo para Protocolo',\n",
    "       'Data Prazo Automático', 'Data Revisão', 'Prazo Revisão','Data de Reprovação', 'Data Cancelamento','Motivo do cancelamento do Agendamento', 'Observação de Cancelamento',\n",
    "       'Fase', 'Estratégia', 'Objeto', 'Sub-Objeto', 'Produto','Adv. Responsável Processo', 'Responsável Cadastro','Responsavel Prazo', 'Responsável Revisão', 'Responsável Conclusão',\n",
    "       'Responsável Protocolo', 'Responsável Auditoria Protocolo', 'Célula','Centro de Custo_y','Cliente', 'Segmento', 'Forma Abertura', 'ID PA', 'ID Prazo Origem',\n",
    "       ' ', ' ', 'Tem serviço contratado?', 'Id serviço', 'Tipo','Subtipo do serviço', 'Data da contratação', 'Hora da contratação','Status do serviço', 'Status Sugestão alteração/cancelamento',\n",
    "       'Vinculado ao Recurso?', 'ID Recurso']]"
   ]
  },
  {
   "cell_type": "code",
   "execution_count": 14,
   "metadata": {},
   "outputs": [],
   "source": [
    "df_ajustado.rename(columns = {'Centro de Custo_y': 'Centro de Custo'}, inplace=True)\n",
    "\n",
    "df_final = df_ajustado[(df_ajustado['Centro de Custo'] != 'AMBEV') &\n",
    "            (df_ajustado['Centro de Custo'] != 'CCB MASSIFICADO') &\n",
    "            (df_ajustado['Centro de Custo'] != 'Apresentação QCA') &\n",
    "            (df_ajustado['Centro de Custo'] != 'EQUIPE PARAÍBA') &\n",
    "            (df_ajustado['Centro de Custo'] != 'MONGERAL') &\n",
    "            (df_ajustado['Centro de Custo'] != 'MARITIMO E PORTUARIO') &\n",
    "            (df_ajustado['Centro de Custo'] != ' ')]"
   ]
  },
  {
   "cell_type": "code",
   "execution_count": 15,
   "metadata": {},
   "outputs": [],
   "source": [
    "# from biblioteca_qca import tratamento_prazos_diarios\n",
    "\n",
    "# import warnings\n",
    "# warnings.filterwarnings('ignore')"
   ]
  },
  {
   "cell_type": "code",
   "execution_count": 16,
   "metadata": {},
   "outputs": [],
   "source": [
    "# tratamento_prazos_diarios(base_agendados='base1302_agendados.xlsx',\n",
    "#                             base_centro_custo='centro_de_custo.xlsx')"
   ]
  },
  {
   "cell_type": "code",
   "execution_count": 17,
   "metadata": {},
   "outputs": [
    {
     "name": "stdout",
     "output_type": "stream",
     "text": [
      "<class 'pandas.core.frame.DataFrame'>\n",
      "Int64Index: 2091 entries, 0 to 2097\n",
      "Data columns (total 59 columns):\n",
      " #   Column                                  Non-Null Count  Dtype         \n",
      "---  ------                                  --------------  -----         \n",
      " 0   ID Processo                             2091 non-null   int64         \n",
      " 1   ID Prazo                                2091 non-null   int64         \n",
      " 2   Data Cadastro Prazo                     2091 non-null   datetime64[ns]\n",
      " 3   Data do Prazo                           2091 non-null   datetime64[ns]\n",
      " 4   Hora do Prazo                           2091 non-null   object        \n",
      " 5   Tipo de Atividade                       2091 non-null   object        \n",
      " 6   Sub Tipo Compromisso                    2091 non-null   object        \n",
      " 7   Parte Cliente                           2091 non-null   object        \n",
      " 8   Parte Adversa                           2091 non-null   object        \n",
      " 9   Número do Processo                      2091 non-null   object        \n",
      " 10  Órgão                                   2086 non-null   object        \n",
      " 11  Comarca                                 2091 non-null   object        \n",
      " 12  UF                                      2091 non-null   object        \n",
      " 13  Tipo de Processo                        2091 non-null   object        \n",
      " 14  Sistema Eletrônico                      1996 non-null   object        \n",
      " 15  Status do Prazo                         2091 non-null   object        \n",
      " 16  Data Inicio Compromisso                 2091 non-null   datetime64[ns]\n",
      " 17  Data Conclusão                          176 non-null    datetime64[ns]\n",
      " 18  Data Protocolo                          69 non-null     datetime64[ns]\n",
      " 19  Data Auditoria Protocolo                7 non-null      datetime64[ns]\n",
      " 20  Prazo para Protocolo                    163 non-null    datetime64[ns]\n",
      " 21  Data Prazo Automático                   2019 non-null   datetime64[ns]\n",
      " 22  Data Revisão                            42 non-null     datetime64[ns]\n",
      " 23  Prazo Revisão                           75 non-null     datetime64[ns]\n",
      " 24  Data de Reprovação                      0 non-null      float64       \n",
      " 25  Data Cancelamento                       69 non-null     datetime64[ns]\n",
      " 26  Motivo do cancelamento do Agendamento   69 non-null     object        \n",
      " 27  Observação de Cancelamento              69 non-null     object        \n",
      " 28  Fase                                    2089 non-null   object        \n",
      " 29  Estratégia                              1915 non-null   object        \n",
      " 30  Objeto                                  2087 non-null   object        \n",
      " 31  Sub-Objeto                              2079 non-null   object        \n",
      " 32  Produto                                 2071 non-null   object        \n",
      " 33  Adv. Responsável Processo               2091 non-null   object        \n",
      " 34  Responsável Cadastro                    1980 non-null   object        \n",
      " 35  Responsavel Prazo                       2091 non-null   object        \n",
      " 36  Responsável Revisão                     75 non-null     object        \n",
      " 37  Responsável Conclusão                   176 non-null    object        \n",
      " 38  Responsável Protocolo                   130 non-null    object        \n",
      " 39  Responsável Auditoria Protocolo         10 non-null     object        \n",
      " 40  Célula                                  2091 non-null   object        \n",
      " 41  Centro de Custo                         2091 non-null   object        \n",
      " 42  Cliente                                 2091 non-null   object        \n",
      " 43  Segmento                                2087 non-null   object        \n",
      " 44  Forma Abertura                          2091 non-null   object        \n",
      " 45  ID PA                                   168 non-null    float64       \n",
      " 46  ID Prazo Origem                         370 non-null    float64       \n",
      " 47                                          2091 non-null   object        \n",
      " 48                                          2091 non-null   object        \n",
      " 49  Tem serviço contratado?                 2091 non-null   object        \n",
      " 50  Id serviço                              3 non-null      float64       \n",
      " 51  Tipo                                    3 non-null      object        \n",
      " 52  Subtipo do serviço                      3 non-null      object        \n",
      " 53  Data da contratação                     3 non-null      datetime64[ns]\n",
      " 54  Hora da contratação                     3 non-null      object        \n",
      " 55  Status do serviço                       3 non-null      object        \n",
      " 56  Status Sugestão alteração/cancelamento  70 non-null     object        \n",
      " 57  Vinculado ao Recurso?                   2091 non-null   object        \n",
      " 58  ID Recurso                              2091 non-null   int64         \n",
      "dtypes: datetime64[ns](12), float64(4), int64(3), object(40)\n",
      "memory usage: 980.2+ KB\n"
     ]
    }
   ],
   "source": [
    "df_final.info()"
   ]
  },
  {
   "cell_type": "code",
   "execution_count": 22,
   "metadata": {},
   "outputs": [
    {
     "data": {
      "text/plain": [
       "0       13/02/2023\n",
       "1       13/02/2023\n",
       "2       13/02/2023\n",
       "3       13/02/2023\n",
       "4       13/02/2023\n",
       "           ...    \n",
       "2093    13/02/2023\n",
       "2094    13/02/2023\n",
       "2095    13/02/2023\n",
       "2096    13/02/2023\n",
       "2097    13/02/2023\n",
       "Name: Data Cadastro Prazo, Length: 2091, dtype: object"
      ]
     },
     "execution_count": 22,
     "metadata": {},
     "output_type": "execute_result"
    }
   ],
   "source": [
    "df_final['Data Cadastro Prazo'].dt.strftime('%d/%m/%Y')"
   ]
  },
  {
   "cell_type": "code",
   "execution_count": 28,
   "metadata": {},
   "outputs": [
    {
     "ename": "AttributeError",
     "evalue": "'DatetimeProperties' object has no attribute 'strptime'",
     "output_type": "error",
     "traceback": [
      "\u001b[1;31m---------------------------------------------------------------------------\u001b[0m",
      "\u001b[1;31mAttributeError\u001b[0m                            Traceback (most recent call last)",
      "Cell \u001b[1;32mIn[28], line 1\u001b[0m\n\u001b[1;32m----> 1\u001b[0m datetime\u001b[39m.\u001b[39mstrptime((df_final[\u001b[39m'\u001b[39;49m\u001b[39mData Cadastro Prazo\u001b[39;49m\u001b[39m'\u001b[39;49m]\u001b[39m.\u001b[39;49mdt\u001b[39m.\u001b[39;49mstrptime(\u001b[39m'\u001b[39m\u001b[39m%d\u001b[39;00m\u001b[39m/\u001b[39m\u001b[39m%\u001b[39m\u001b[39mm/\u001b[39m\u001b[39m%\u001b[39m\u001b[39mY\u001b[39m\u001b[39m'\u001b[39m)), \u001b[39m'\u001b[39m\u001b[39m%d\u001b[39;00m\u001b[39m/\u001b[39m\u001b[39m%\u001b[39m\u001b[39mm/\u001b[39m\u001b[39m%\u001b[39m\u001b[39mY\u001b[39m\u001b[39m'\u001b[39m)\u001b[39m.\u001b[39mdate()\n",
      "\u001b[1;31mAttributeError\u001b[0m: 'DatetimeProperties' object has no attribute 'strptime'"
     ]
    }
   ],
   "source": [
    "datetime.strptime((df_final['Data Cadastro Prazo'].dt.strptime('%d/%m/%Y')), '%d/%m/%Y').date()"
   ]
  },
  {
   "cell_type": "code",
   "execution_count": 33,
   "metadata": {},
   "outputs": [
    {
     "name": "stdout",
     "output_type": "stream",
     "text": [
      "2023-02-16\n"
     ]
    }
   ],
   "source": [
    "import datetime\n",
    "\n",
    "# create a datetime object representing the current date and time\n",
    "now = datetime.datetime.now()\n",
    "\n",
    "# format the datetime object as a string with the desired date format\n",
    "date_string = now.strftime(\"%m/%d/%Y\")\n",
    "\n",
    "# parse the string into a date object\n",
    "date_obj = datetime.datetime.strptime(date_string, \"%m/%d/%Y\").date()\n",
    "\n",
    "# print the date object\n",
    "print(date_obj)\n"
   ]
  },
  {
   "cell_type": "code",
   "execution_count": null,
   "metadata": {},
   "outputs": [],
   "source": []
  }
 ],
 "metadata": {
  "kernelspec": {
   "display_name": "Python 3",
   "language": "python",
   "name": "python3"
  },
  "language_info": {
   "codemirror_mode": {
    "name": "ipython",
    "version": 3
   },
   "file_extension": ".py",
   "mimetype": "text/x-python",
   "name": "python",
   "nbconvert_exporter": "python",
   "pygments_lexer": "ipython3",
   "version": "3.11.0"
  },
  "orig_nbformat": 4,
  "vscode": {
   "interpreter": {
    "hash": "6b260d1f00f75eda807bbeaec3f3d277521ce631ca663ed2316176c028acb387"
   }
  }
 },
 "nbformat": 4,
 "nbformat_minor": 2
}
