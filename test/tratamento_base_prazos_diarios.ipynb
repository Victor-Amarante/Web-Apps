{
 "cells": [
  {
   "cell_type": "code",
   "execution_count": 56,
   "metadata": {},
   "outputs": [],
   "source": [
    "import pandas as pd\n",
    "import numpy as np\n",
    "from datetime import date, time, datetime, timedelta"
   ]
  },
  {
   "cell_type": "code",
   "execution_count": 9,
   "metadata": {},
   "outputs": [],
   "source": [
    "from biblioteca_qca import tratamento_prazos_diarios_agendados"
   ]
  },
  {
   "cell_type": "code",
   "execution_count": 27,
   "metadata": {},
   "outputs": [],
   "source": [
    "tratamento_prazos_diarios('base1302_agendados.xlsx', 'centro_de_custo.xlsx')"
   ]
  },
  {
   "cell_type": "code",
   "execution_count": 111,
   "metadata": {},
   "outputs": [],
   "source": [
    "hoje = date.today()"
   ]
  },
  {
   "cell_type": "code",
   "execution_count": 140,
   "metadata": {},
   "outputs": [
    {
     "name": "stderr",
     "output_type": "stream",
     "text": [
      "c:\\Users\\victoramarante\\AppData\\Local\\Programs\\Python\\Python311\\Lib\\site-packages\\openpyxl\\styles\\stylesheet.py:226: UserWarning: Workbook contains no default style, apply openpyxl's default\n",
      "  warn(\"Workbook contains no default style, apply openpyxl's default\")\n"
     ]
    }
   ],
   "source": [
    "df = pd.read_excel('base1402_agendados.xlsx', engine='openpyxl')"
   ]
  },
  {
   "cell_type": "code",
   "execution_count": 141,
   "metadata": {},
   "outputs": [
    {
     "data": {
      "text/plain": [
       "(2111, 66)"
      ]
     },
     "execution_count": 141,
     "metadata": {},
     "output_type": "execute_result"
    }
   ],
   "source": [
    "df.shape"
   ]
  },
  {
   "cell_type": "code",
   "execution_count": 142,
   "metadata": {},
   "outputs": [
    {
     "ename": "SyntaxError",
     "evalue": "invalid syntax (1311015404.py, line 3)",
     "output_type": "error",
     "traceback": [
      "\u001b[1;36m  Cell \u001b[1;32mIn[142], line 3\u001b[1;36m\u001b[0m\n\u001b[1;33m    entradas - 21 e 22\u001b[0m\n\u001b[1;37m                  ^\u001b[0m\n\u001b[1;31mSyntaxError\u001b[0m\u001b[1;31m:\u001b[0m invalid syntax\n"
     ]
    }
   ],
   "source": [
    "bmg\n",
    "cetelem - suellen\n",
    "entradas - 21 e 22"
   ]
  },
  {
   "cell_type": "code",
   "execution_count": null,
   "metadata": {},
   "outputs": [],
   "source": [
    "# dropando colunas que nao serao usadas\n",
    "df = df.drop(['NPC', 'Número do Órgão', 'Sistema Acompanhamento', 'Responsável Cancelamento',\n",
    "                          'ID Obrigação', 'Observação ', 'Observação da conclusão', 'Projeto',\n",
    "                          'Link de Acesso à Audiência'],\n",
    "                          axis=1)"
   ]
  },
  {
   "cell_type": "code",
   "execution_count": null,
   "metadata": {},
   "outputs": [],
   "source": [
    "# criando duas novas colunas vazias\n",
    "df[' '] = ' '\n",
    "df[' '] = ' '"
   ]
  },
  {
   "cell_type": "code",
   "execution_count": null,
   "metadata": {},
   "outputs": [
    {
     "data": {
      "text/plain": [
       "(2111, 58)"
      ]
     },
     "execution_count": 117,
     "metadata": {},
     "output_type": "execute_result"
    }
   ],
   "source": [
    "df.shape"
   ]
  },
  {
   "cell_type": "code",
   "execution_count": null,
   "metadata": {},
   "outputs": [],
   "source": [
    "# selecionar o tipo de atividade = diligencia e nao selecionar os protocolos e apagar todas as linhas\n",
    "df_remove = df[(df['Tipo de Atividade'] == 'Diligência') &\n",
    "    (df['Sub Tipo Compromisso'].str.contains('Protocolo') == False)]"
   ]
  },
  {
   "cell_type": "code",
   "execution_count": null,
   "metadata": {},
   "outputs": [],
   "source": [
    "df = df.drop(df_remove.index)"
   ]
  },
  {
   "cell_type": "code",
   "execution_count": 143,
   "metadata": {},
   "outputs": [],
   "source": [
    "centro_custo = pd.read_excel('centro_de_custo.xlsx', engine='openpyxl')"
   ]
  },
  {
   "cell_type": "code",
   "execution_count": 144,
   "metadata": {},
   "outputs": [
    {
     "ename": "KeyError",
     "evalue": "\"[' '] not in index\"",
     "output_type": "error",
     "traceback": [
      "\u001b[1;31m---------------------------------------------------------------------------\u001b[0m",
      "\u001b[1;31mKeyError\u001b[0m                                  Traceback (most recent call last)",
      "Cell \u001b[1;32mIn[144], line 4\u001b[0m\n\u001b[0;32m      1\u001b[0m df_ajustado \u001b[39m=\u001b[39m pd\u001b[39m.\u001b[39mmerge(df, centro_custo, on\u001b[39m=\u001b[39m\u001b[39m'\u001b[39m\u001b[39mCélula\u001b[39m\u001b[39m'\u001b[39m, how\u001b[39m=\u001b[39m\u001b[39m'\u001b[39m\u001b[39mleft\u001b[39m\u001b[39m'\u001b[39m)\n\u001b[0;32m      2\u001b[0m df_ajustado\u001b[39m.\u001b[39mdrop([\u001b[39m'\u001b[39m\u001b[39mCentro de Custo_x\u001b[39m\u001b[39m'\u001b[39m, \u001b[39m'\u001b[39m\u001b[39mGestor\u001b[39m\u001b[39m'\u001b[39m, \u001b[39m'\u001b[39m\u001b[39mDiretoria\u001b[39m\u001b[39m'\u001b[39m, \u001b[39m'\u001b[39m\u001b[39mEscritorio\u001b[39m\u001b[39m'\u001b[39m], axis\u001b[39m=\u001b[39m\u001b[39m1\u001b[39m, inplace\u001b[39m=\u001b[39m\u001b[39mTrue\u001b[39;00m)\n\u001b[1;32m----> 4\u001b[0m df_ajustado \u001b[39m=\u001b[39m df_ajustado[[\u001b[39m'\u001b[39;49m\u001b[39mID Processo\u001b[39;49m\u001b[39m'\u001b[39;49m, \u001b[39m'\u001b[39;49m\u001b[39mID Prazo\u001b[39;49m\u001b[39m'\u001b[39;49m, \u001b[39m'\u001b[39;49m\u001b[39mData Cadastro Prazo\u001b[39;49m\u001b[39m'\u001b[39;49m, \u001b[39m'\u001b[39;49m\u001b[39mData do Prazo\u001b[39;49m\u001b[39m'\u001b[39;49m,\u001b[39m'\u001b[39;49m\u001b[39mHora do Prazo\u001b[39;49m\u001b[39m'\u001b[39;49m, \u001b[39m'\u001b[39;49m\u001b[39mTipo de Atividade\u001b[39;49m\u001b[39m'\u001b[39;49m, \u001b[39m'\u001b[39;49m\u001b[39mSub Tipo Compromisso\u001b[39;49m\u001b[39m'\u001b[39;49m,\u001b[39m'\u001b[39;49m\u001b[39mParte Cliente\u001b[39;49m\u001b[39m'\u001b[39;49m, \u001b[39m'\u001b[39;49m\u001b[39mParte Adversa\u001b[39;49m\u001b[39m'\u001b[39;49m, \u001b[39m'\u001b[39;49m\u001b[39mNúmero do Processo\u001b[39;49m\u001b[39m'\u001b[39;49m, \u001b[39m'\u001b[39;49m\u001b[39mÓrgão\u001b[39;49m\u001b[39m'\u001b[39;49m,\n\u001b[0;32m      5\u001b[0m        \u001b[39m'\u001b[39;49m\u001b[39mComarca\u001b[39;49m\u001b[39m'\u001b[39;49m, \u001b[39m'\u001b[39;49m\u001b[39mUF\u001b[39;49m\u001b[39m'\u001b[39;49m, \u001b[39m'\u001b[39;49m\u001b[39mTipo de Processo\u001b[39;49m\u001b[39m'\u001b[39;49m, \u001b[39m'\u001b[39;49m\u001b[39mSistema Eletrônico\u001b[39;49m\u001b[39m'\u001b[39;49m,\u001b[39m'\u001b[39;49m\u001b[39mStatus do Prazo\u001b[39;49m\u001b[39m'\u001b[39;49m, \u001b[39m'\u001b[39;49m\u001b[39mData Inicio Compromisso\u001b[39;49m\u001b[39m'\u001b[39;49m, \u001b[39m'\u001b[39;49m\u001b[39mData Conclusão\u001b[39;49m\u001b[39m'\u001b[39;49m,\u001b[39m'\u001b[39;49m\u001b[39mData Protocolo\u001b[39;49m\u001b[39m'\u001b[39;49m, \u001b[39m'\u001b[39;49m\u001b[39mData Auditoria Protocolo\u001b[39;49m\u001b[39m'\u001b[39;49m, \u001b[39m'\u001b[39;49m\u001b[39mPrazo para Protocolo\u001b[39;49m\u001b[39m'\u001b[39;49m,\n\u001b[0;32m      6\u001b[0m        \u001b[39m'\u001b[39;49m\u001b[39mData Prazo Automático\u001b[39;49m\u001b[39m'\u001b[39;49m, \u001b[39m'\u001b[39;49m\u001b[39mData Revisão\u001b[39;49m\u001b[39m'\u001b[39;49m, \u001b[39m'\u001b[39;49m\u001b[39mPrazo Revisão\u001b[39;49m\u001b[39m'\u001b[39;49m,\u001b[39m'\u001b[39;49m\u001b[39mData de Reprovação\u001b[39;49m\u001b[39m'\u001b[39;49m, \u001b[39m'\u001b[39;49m\u001b[39mData Cancelamento\u001b[39;49m\u001b[39m'\u001b[39;49m,\u001b[39m'\u001b[39;49m\u001b[39mMotivo do cancelamento do Agendamento\u001b[39;49m\u001b[39m'\u001b[39;49m, \u001b[39m'\u001b[39;49m\u001b[39mObservação de Cancelamento\u001b[39;49m\u001b[39m'\u001b[39;49m,\n\u001b[0;32m      7\u001b[0m        \u001b[39m'\u001b[39;49m\u001b[39mFase\u001b[39;49m\u001b[39m'\u001b[39;49m, \u001b[39m'\u001b[39;49m\u001b[39mEstratégia\u001b[39;49m\u001b[39m'\u001b[39;49m, \u001b[39m'\u001b[39;49m\u001b[39mObjeto\u001b[39;49m\u001b[39m'\u001b[39;49m, \u001b[39m'\u001b[39;49m\u001b[39mSub-Objeto\u001b[39;49m\u001b[39m'\u001b[39;49m, \u001b[39m'\u001b[39;49m\u001b[39mProduto\u001b[39;49m\u001b[39m'\u001b[39;49m,\u001b[39m'\u001b[39;49m\u001b[39mAdv. Responsável Processo\u001b[39;49m\u001b[39m'\u001b[39;49m, \u001b[39m'\u001b[39;49m\u001b[39mResponsável Cadastro\u001b[39;49m\u001b[39m'\u001b[39;49m,\u001b[39m'\u001b[39;49m\u001b[39mResponsavel Prazo\u001b[39;49m\u001b[39m'\u001b[39;49m, \u001b[39m'\u001b[39;49m\u001b[39mResponsável Revisão\u001b[39;49m\u001b[39m'\u001b[39;49m, \u001b[39m'\u001b[39;49m\u001b[39mResponsável Conclusão\u001b[39;49m\u001b[39m'\u001b[39;49m,\n\u001b[0;32m      8\u001b[0m        \u001b[39m'\u001b[39;49m\u001b[39mResponsável Protocolo\u001b[39;49m\u001b[39m'\u001b[39;49m, \u001b[39m'\u001b[39;49m\u001b[39mResponsável Auditoria Protocolo\u001b[39;49m\u001b[39m'\u001b[39;49m, \u001b[39m'\u001b[39;49m\u001b[39mCélula\u001b[39;49m\u001b[39m'\u001b[39;49m,\u001b[39m'\u001b[39;49m\u001b[39mCentro de Custo_y\u001b[39;49m\u001b[39m'\u001b[39;49m,\u001b[39m'\u001b[39;49m\u001b[39mCliente\u001b[39;49m\u001b[39m'\u001b[39;49m, \u001b[39m'\u001b[39;49m\u001b[39mSegmento\u001b[39;49m\u001b[39m'\u001b[39;49m, \u001b[39m'\u001b[39;49m\u001b[39mForma Abertura\u001b[39;49m\u001b[39m'\u001b[39;49m, \u001b[39m'\u001b[39;49m\u001b[39mID PA\u001b[39;49m\u001b[39m'\u001b[39;49m, \u001b[39m'\u001b[39;49m\u001b[39mID Prazo Origem\u001b[39;49m\u001b[39m'\u001b[39;49m,\n\u001b[0;32m      9\u001b[0m        \u001b[39m'\u001b[39;49m\u001b[39m \u001b[39;49m\u001b[39m'\u001b[39;49m, \u001b[39m'\u001b[39;49m\u001b[39m \u001b[39;49m\u001b[39m'\u001b[39;49m, \u001b[39m'\u001b[39;49m\u001b[39mTem serviço contratado?\u001b[39;49m\u001b[39m'\u001b[39;49m, \u001b[39m'\u001b[39;49m\u001b[39mId serviço\u001b[39;49m\u001b[39m'\u001b[39;49m, \u001b[39m'\u001b[39;49m\u001b[39mTipo\u001b[39;49m\u001b[39m'\u001b[39;49m,\u001b[39m'\u001b[39;49m\u001b[39mSubtipo do serviço\u001b[39;49m\u001b[39m'\u001b[39;49m, \u001b[39m'\u001b[39;49m\u001b[39mData da contratação\u001b[39;49m\u001b[39m'\u001b[39;49m, \u001b[39m'\u001b[39;49m\u001b[39mHora da contratação\u001b[39;49m\u001b[39m'\u001b[39;49m,\u001b[39m'\u001b[39;49m\u001b[39mStatus do serviço\u001b[39;49m\u001b[39m'\u001b[39;49m, \u001b[39m'\u001b[39;49m\u001b[39mStatus Sugestão alteração/cancelamento\u001b[39;49m\u001b[39m'\u001b[39;49m,\n\u001b[0;32m     10\u001b[0m        \u001b[39m'\u001b[39;49m\u001b[39mVinculado ao Recurso?\u001b[39;49m\u001b[39m'\u001b[39;49m, \u001b[39m'\u001b[39;49m\u001b[39mID Recurso\u001b[39;49m\u001b[39m'\u001b[39;49m]]\n",
      "File \u001b[1;32mc:\\Users\\victoramarante\\AppData\\Local\\Programs\\Python\\Python311\\Lib\\site-packages\\pandas\\core\\frame.py:3811\u001b[0m, in \u001b[0;36mDataFrame.__getitem__\u001b[1;34m(self, key)\u001b[0m\n\u001b[0;32m   3809\u001b[0m     \u001b[39mif\u001b[39;00m is_iterator(key):\n\u001b[0;32m   3810\u001b[0m         key \u001b[39m=\u001b[39m \u001b[39mlist\u001b[39m(key)\n\u001b[1;32m-> 3811\u001b[0m     indexer \u001b[39m=\u001b[39m \u001b[39mself\u001b[39;49m\u001b[39m.\u001b[39;49mcolumns\u001b[39m.\u001b[39;49m_get_indexer_strict(key, \u001b[39m\"\u001b[39;49m\u001b[39mcolumns\u001b[39;49m\u001b[39m\"\u001b[39;49m)[\u001b[39m1\u001b[39m]\n\u001b[0;32m   3813\u001b[0m \u001b[39m# take() does not accept boolean indexers\u001b[39;00m\n\u001b[0;32m   3814\u001b[0m \u001b[39mif\u001b[39;00m \u001b[39mgetattr\u001b[39m(indexer, \u001b[39m\"\u001b[39m\u001b[39mdtype\u001b[39m\u001b[39m\"\u001b[39m, \u001b[39mNone\u001b[39;00m) \u001b[39m==\u001b[39m \u001b[39mbool\u001b[39m:\n",
      "File \u001b[1;32mc:\\Users\\victoramarante\\AppData\\Local\\Programs\\Python\\Python311\\Lib\\site-packages\\pandas\\core\\indexes\\base.py:6113\u001b[0m, in \u001b[0;36mIndex._get_indexer_strict\u001b[1;34m(self, key, axis_name)\u001b[0m\n\u001b[0;32m   6110\u001b[0m \u001b[39melse\u001b[39;00m:\n\u001b[0;32m   6111\u001b[0m     keyarr, indexer, new_indexer \u001b[39m=\u001b[39m \u001b[39mself\u001b[39m\u001b[39m.\u001b[39m_reindex_non_unique(keyarr)\n\u001b[1;32m-> 6113\u001b[0m \u001b[39mself\u001b[39;49m\u001b[39m.\u001b[39;49m_raise_if_missing(keyarr, indexer, axis_name)\n\u001b[0;32m   6115\u001b[0m keyarr \u001b[39m=\u001b[39m \u001b[39mself\u001b[39m\u001b[39m.\u001b[39mtake(indexer)\n\u001b[0;32m   6116\u001b[0m \u001b[39mif\u001b[39;00m \u001b[39misinstance\u001b[39m(key, Index):\n\u001b[0;32m   6117\u001b[0m     \u001b[39m# GH 42790 - Preserve name from an Index\u001b[39;00m\n",
      "File \u001b[1;32mc:\\Users\\victoramarante\\AppData\\Local\\Programs\\Python\\Python311\\Lib\\site-packages\\pandas\\core\\indexes\\base.py:6176\u001b[0m, in \u001b[0;36mIndex._raise_if_missing\u001b[1;34m(self, key, indexer, axis_name)\u001b[0m\n\u001b[0;32m   6173\u001b[0m     \u001b[39mraise\u001b[39;00m \u001b[39mKeyError\u001b[39;00m(\u001b[39mf\u001b[39m\u001b[39m\"\u001b[39m\u001b[39mNone of [\u001b[39m\u001b[39m{\u001b[39;00mkey\u001b[39m}\u001b[39;00m\u001b[39m] are in the [\u001b[39m\u001b[39m{\u001b[39;00maxis_name\u001b[39m}\u001b[39;00m\u001b[39m]\u001b[39m\u001b[39m\"\u001b[39m)\n\u001b[0;32m   6175\u001b[0m not_found \u001b[39m=\u001b[39m \u001b[39mlist\u001b[39m(ensure_index(key)[missing_mask\u001b[39m.\u001b[39mnonzero()[\u001b[39m0\u001b[39m]]\u001b[39m.\u001b[39munique())\n\u001b[1;32m-> 6176\u001b[0m \u001b[39mraise\u001b[39;00m \u001b[39mKeyError\u001b[39;00m(\u001b[39mf\u001b[39m\u001b[39m\"\u001b[39m\u001b[39m{\u001b[39;00mnot_found\u001b[39m}\u001b[39;00m\u001b[39m not in index\u001b[39m\u001b[39m\"\u001b[39m)\n",
      "\u001b[1;31mKeyError\u001b[0m: \"[' '] not in index\""
     ]
    }
   ],
   "source": [
    "df_ajustado = pd.merge(df, centro_custo, on='Célula', how='left')\n",
    "df_ajustado.drop(['Centro de Custo_x', 'Gestor', 'Diretoria', 'Escritorio'], axis=1, inplace=True)\n",
    "\n",
    "df_ajustado = df_ajustado[['ID Processo', 'ID Prazo', 'Data Cadastro Prazo', 'Data do Prazo','Hora do Prazo', 'Tipo de Atividade', 'Sub Tipo Compromisso','Parte Cliente', 'Parte Adversa', 'Número do Processo', 'Órgão',\n",
    "       'Comarca', 'UF', 'Tipo de Processo', 'Sistema Eletrônico','Status do Prazo', 'Data Inicio Compromisso', 'Data Conclusão','Data Protocolo', 'Data Auditoria Protocolo', 'Prazo para Protocolo',\n",
    "       'Data Prazo Automático', 'Data Revisão', 'Prazo Revisão','Data de Reprovação', 'Data Cancelamento','Motivo do cancelamento do Agendamento', 'Observação de Cancelamento',\n",
    "       'Fase', 'Estratégia', 'Objeto', 'Sub-Objeto', 'Produto','Adv. Responsável Processo', 'Responsável Cadastro','Responsavel Prazo', 'Responsável Revisão', 'Responsável Conclusão',\n",
    "       'Responsável Protocolo', 'Responsável Auditoria Protocolo', 'Célula','Centro de Custo_y','Cliente', 'Segmento', 'Forma Abertura', 'ID PA', 'ID Prazo Origem',\n",
    "       ' ', ' ', 'Tem serviço contratado?', 'Id serviço', 'Tipo','Subtipo do serviço', 'Data da contratação', 'Hora da contratação','Status do serviço', 'Status Sugestão alteração/cancelamento',\n",
    "       'Vinculado ao Recurso?', 'ID Recurso']]"
   ]
  },
  {
   "cell_type": "code",
   "execution_count": null,
   "metadata": {},
   "outputs": [],
   "source": [
    "df_ajustado.rename(columns = {'Centro de Custo_y': 'Centro de Custo'}, inplace=True)\n",
    "\n",
    "df_final = df_ajustado[(df_ajustado['Centro de Custo'] != 'AMBEV') &\n",
    "            (df_ajustado['Centro de Custo'] != 'CCB MASSIFICADO') &\n",
    "            (df_ajustado['Centro de Custo'] != 'Apresentação QCA') &\n",
    "            (df_ajustado['Centro de Custo'] != 'EQUIPE PARAÍBA') &\n",
    "            (df_ajustado['Centro de Custo'] != 'MONGERAL') &\n",
    "            (df_ajustado['Centro de Custo'] != 'MARITIMO E PORTUARIO') &\n",
    "            (df_ajustado['Centro de Custo'] != ' ')]"
   ]
  },
  {
   "cell_type": "code",
   "execution_count": 145,
   "metadata": {},
   "outputs": [],
   "source": [
    "# from biblioteca_qca import tratamento_prazos_diarios\n",
    "\n",
    "# import warnings\n",
    "# warnings.filterwarnings('ignore')"
   ]
  },
  {
   "cell_type": "code",
   "execution_count": 146,
   "metadata": {},
   "outputs": [],
   "source": [
    "# tratamento_prazos_diarios(base_agendados='base1302_agendados.xlsx',\n",
    "#                             base_centro_custo='centro_de_custo.xlsx')"
   ]
  },
  {
   "cell_type": "code",
   "execution_count": 147,
   "metadata": {},
   "outputs": [
    {
     "name": "stdout",
     "output_type": "stream",
     "text": [
      "<class 'pandas.core.frame.DataFrame'>\n",
      "Int64Index: 2091 entries, 0 to 2097\n",
      "Data columns (total 59 columns):\n",
      " #   Column                                  Non-Null Count  Dtype         \n",
      "---  ------                                  --------------  -----         \n",
      " 0   ID Processo                             2091 non-null   int64         \n",
      " 1   ID Prazo                                2091 non-null   int64         \n",
      " 2   Data Cadastro Prazo                     2091 non-null   object        \n",
      " 3   Data do Prazo                           2091 non-null   object        \n",
      " 4   Hora do Prazo                           2091 non-null   object        \n",
      " 5   Tipo de Atividade                       2091 non-null   object        \n",
      " 6   Sub Tipo Compromisso                    2091 non-null   object        \n",
      " 7   Parte Cliente                           2091 non-null   object        \n",
      " 8   Parte Adversa                           2091 non-null   object        \n",
      " 9   Número do Processo                      2091 non-null   object        \n",
      " 10  Órgão                                   2086 non-null   object        \n",
      " 11  Comarca                                 2091 non-null   object        \n",
      " 12  UF                                      2091 non-null   object        \n",
      " 13  Tipo de Processo                        2091 non-null   object        \n",
      " 14  Sistema Eletrônico                      1996 non-null   object        \n",
      " 15  Status do Prazo                         2091 non-null   object        \n",
      " 16  Data Inicio Compromisso                 2091 non-null   datetime64[ns]\n",
      " 17  Data Conclusão                          176 non-null    datetime64[ns]\n",
      " 18  Data Protocolo                          69 non-null     datetime64[ns]\n",
      " 19  Data Auditoria Protocolo                7 non-null      datetime64[ns]\n",
      " 20  Prazo para Protocolo                    163 non-null    datetime64[ns]\n",
      " 21  Data Prazo Automático                   2019 non-null   datetime64[ns]\n",
      " 22  Data Revisão                            42 non-null     datetime64[ns]\n",
      " 23  Prazo Revisão                           75 non-null     datetime64[ns]\n",
      " 24  Data de Reprovação                      0 non-null      float64       \n",
      " 25  Data Cancelamento                       69 non-null     datetime64[ns]\n",
      " 26  Motivo do cancelamento do Agendamento   69 non-null     object        \n",
      " 27  Observação de Cancelamento              69 non-null     object        \n",
      " 28  Fase                                    2089 non-null   object        \n",
      " 29  Estratégia                              1915 non-null   object        \n",
      " 30  Objeto                                  2087 non-null   object        \n",
      " 31  Sub-Objeto                              2079 non-null   object        \n",
      " 32  Produto                                 2071 non-null   object        \n",
      " 33  Adv. Responsável Processo               2091 non-null   object        \n",
      " 34  Responsável Cadastro                    1980 non-null   object        \n",
      " 35  Responsavel Prazo                       2091 non-null   object        \n",
      " 36  Responsável Revisão                     75 non-null     object        \n",
      " 37  Responsável Conclusão                   176 non-null    object        \n",
      " 38  Responsável Protocolo                   130 non-null    object        \n",
      " 39  Responsável Auditoria Protocolo         10 non-null     object        \n",
      " 40  Célula                                  2091 non-null   object        \n",
      " 41  Centro de Custo                         2091 non-null   object        \n",
      " 42  Cliente                                 2091 non-null   object        \n",
      " 43  Segmento                                2087 non-null   object        \n",
      " 44  Forma Abertura                          2091 non-null   object        \n",
      " 45  ID PA                                   168 non-null    float64       \n",
      " 46  ID Prazo Origem                         370 non-null    float64       \n",
      " 47                                          2091 non-null   object        \n",
      " 48                                          2091 non-null   object        \n",
      " 49  Tem serviço contratado?                 2091 non-null   object        \n",
      " 50  Id serviço                              3 non-null      float64       \n",
      " 51  Tipo                                    3 non-null      object        \n",
      " 52  Subtipo do serviço                      3 non-null      object        \n",
      " 53  Data da contratação                     3 non-null      datetime64[ns]\n",
      " 54  Hora da contratação                     3 non-null      object        \n",
      " 55  Status do serviço                       3 non-null      object        \n",
      " 56  Status Sugestão alteração/cancelamento  70 non-null     object        \n",
      " 57  Vinculado ao Recurso?                   2091 non-null   object        \n",
      " 58  ID Recurso                              2091 non-null   int64         \n",
      "dtypes: datetime64[ns](10), float64(4), int64(3), object(42)\n",
      "memory usage: 1.0+ MB\n"
     ]
    }
   ],
   "source": [
    "df_final.info()"
   ]
  },
  {
   "cell_type": "code",
   "execution_count": 148,
   "metadata": {},
   "outputs": [
    {
     "data": {
      "text/plain": [
       "Index(['Data Inicio Compromisso', 'Data Conclusão', 'Data Protocolo',\n",
       "       'Data Auditoria Protocolo', 'Prazo para Protocolo',\n",
       "       'Data Prazo Automático', 'Data Revisão', 'Prazo Revisão',\n",
       "       'Data Cancelamento', 'Data da contratação'],\n",
       "      dtype='object')"
      ]
     },
     "execution_count": 148,
     "metadata": {},
     "output_type": "execute_result"
    }
   ],
   "source": [
    "df_final.select_dtypes('datetime').columns"
   ]
  },
  {
   "cell_type": "code",
   "execution_count": 149,
   "metadata": {},
   "outputs": [],
   "source": [
    "colunas_datas = list(df_final.select_dtypes('datetime').columns)"
   ]
  },
  {
   "cell_type": "code",
   "execution_count": 150,
   "metadata": {},
   "outputs": [],
   "source": [
    "colunas_datas.append('Data de Reprovação')"
   ]
  },
  {
   "cell_type": "code",
   "execution_count": 151,
   "metadata": {},
   "outputs": [
    {
     "data": {
      "text/plain": [
       "['Data Inicio Compromisso',\n",
       " 'Data Conclusão',\n",
       " 'Data Protocolo',\n",
       " 'Data Auditoria Protocolo',\n",
       " 'Prazo para Protocolo',\n",
       " 'Data Prazo Automático',\n",
       " 'Data Revisão',\n",
       " 'Prazo Revisão',\n",
       " 'Data Cancelamento',\n",
       " 'Data da contratação',\n",
       " 'Data de Reprovação']"
      ]
     },
     "execution_count": 151,
     "metadata": {},
     "output_type": "execute_result"
    }
   ],
   "source": [
    "colunas_datas"
   ]
  },
  {
   "cell_type": "code",
   "execution_count": 159,
   "metadata": {},
   "outputs": [
    {
     "ename": "AttributeError",
     "evalue": "'Series' object has no attribute 'datetime'",
     "output_type": "error",
     "traceback": [
      "\u001b[1;31m---------------------------------------------------------------------------\u001b[0m",
      "\u001b[1;31mAttributeError\u001b[0m                            Traceback (most recent call last)",
      "Cell \u001b[1;32mIn[159], line 3\u001b[0m\n\u001b[0;32m      1\u001b[0m \u001b[39mfor\u001b[39;00m i \u001b[39min\u001b[39;00m colunas_datas:\n\u001b[0;32m      2\u001b[0m     df_final[i] \u001b[39m=\u001b[39m pd\u001b[39m.\u001b[39mto_datetime(df_final[i])\n\u001b[1;32m----> 3\u001b[0m     df_final[i] \u001b[39m=\u001b[39m df_final\u001b[39m.\u001b[39;49mloc[:, (i)]\u001b[39m.\u001b[39;49mdatetime\u001b[39m.\u001b[39mstrftime(\u001b[39m\"\u001b[39m\u001b[39m%d\u001b[39;00m\u001b[39m/\u001b[39m\u001b[39m%\u001b[39m\u001b[39mm/\u001b[39m\u001b[39m%\u001b[39m\u001b[39mY\u001b[39m\u001b[39m\"\u001b[39m)\n",
      "File \u001b[1;32mc:\\Users\\victoramarante\\AppData\\Local\\Programs\\Python\\Python311\\Lib\\site-packages\\pandas\\core\\generic.py:5902\u001b[0m, in \u001b[0;36mNDFrame.__getattr__\u001b[1;34m(self, name)\u001b[0m\n\u001b[0;32m   5895\u001b[0m \u001b[39mif\u001b[39;00m (\n\u001b[0;32m   5896\u001b[0m     name \u001b[39mnot\u001b[39;00m \u001b[39min\u001b[39;00m \u001b[39mself\u001b[39m\u001b[39m.\u001b[39m_internal_names_set\n\u001b[0;32m   5897\u001b[0m     \u001b[39mand\u001b[39;00m name \u001b[39mnot\u001b[39;00m \u001b[39min\u001b[39;00m \u001b[39mself\u001b[39m\u001b[39m.\u001b[39m_metadata\n\u001b[0;32m   5898\u001b[0m     \u001b[39mand\u001b[39;00m name \u001b[39mnot\u001b[39;00m \u001b[39min\u001b[39;00m \u001b[39mself\u001b[39m\u001b[39m.\u001b[39m_accessors\n\u001b[0;32m   5899\u001b[0m     \u001b[39mand\u001b[39;00m \u001b[39mself\u001b[39m\u001b[39m.\u001b[39m_info_axis\u001b[39m.\u001b[39m_can_hold_identifiers_and_holds_name(name)\n\u001b[0;32m   5900\u001b[0m ):\n\u001b[0;32m   5901\u001b[0m     \u001b[39mreturn\u001b[39;00m \u001b[39mself\u001b[39m[name]\n\u001b[1;32m-> 5902\u001b[0m \u001b[39mreturn\u001b[39;00m \u001b[39mobject\u001b[39;49m\u001b[39m.\u001b[39;49m\u001b[39m__getattribute__\u001b[39;49m(\u001b[39mself\u001b[39;49m, name)\n",
      "\u001b[1;31mAttributeError\u001b[0m: 'Series' object has no attribute 'datetime'"
     ]
    }
   ],
   "source": [
    "for i in colunas_datas:\n",
    "    df_final[i] = pd.to_datetime(df_final[i])\n",
    "    df_final[i] = df_final.loc[:, (i)].datetime.strftime(\"%d/%m/%Y\")"
   ]
  },
  {
   "cell_type": "code",
   "execution_count": 130,
   "metadata": {},
   "outputs": [],
   "source": [
    "# df_final['Data Cadastro Prazo'] = df_final['Data Cadastro Prazo'].dt.strftime(\"%d/%m/%Y\")\n",
    "# df_final['Data do Prazo'] = df_final['Data do Prazo'].dt.strftime(\"%d/%m/%Y\")\n",
    "# df_final['Data Inicio Compromisso'] = df_final['Data Inicio Compromisso'].dt.strftime(\"%d/%m/%Y\")\n",
    "# df_final['Data Conclusão'] = df_final['Data Conclusão'].dt.strftime(\"%d/%m/%Y\")\n",
    "# df_final['Data Protocolo'] = df_final['Data Protocolo'].dt.strftime(\"%d/%m/%Y\")\n",
    "# df_final['Data Auditoria Protocolo'] = df_final['Data Auditoria Protocolo'].dt.strftime(\"%d/%m/%Y\")\n",
    "# df_final['Prazo para Protocolo'] = df_final['Prazo para Protocolo'].dt.strftime(\"%d/%m/%Y\")\n",
    "# df_final['Data Prazo Automático'] = df_final['Data Prazo Automático'].dt.strftime(\"%d/%m/%Y\")\n",
    "# df_final['Data Revisão'] = df_final['Data Revisão'].dt.strftime(\"%d/%m/%Y\")\n",
    "# df_final['Prazo Revisão'] = df_final['Prazo Revisão'].dt.strftime(\"%d/%m/%Y\")\n",
    "# df_final['Data Cancelamento'] = df_final['Data Cancelamento'].dt.strftime(\"%d/%m/%Y\")\n",
    "# df_final['Data da contratação'] = df_final['Data da contratação'].dt.strftime(\"%d/%m/%Y\")"
   ]
  },
  {
   "cell_type": "code",
   "execution_count": 131,
   "metadata": {},
   "outputs": [
    {
     "name": "stderr",
     "output_type": "stream",
     "text": [
      "C:\\Users\\victoramarante\\AppData\\Local\\Temp\\ipykernel_14968\\124372207.py:1: SettingWithCopyWarning: \n",
      "A value is trying to be set on a copy of a slice from a DataFrame.\n",
      "Try using .loc[row_indexer,col_indexer] = value instead\n",
      "\n",
      "See the caveats in the documentation: https://pandas.pydata.org/pandas-docs/stable/user_guide/indexing.html#returning-a-view-versus-a-copy\n",
      "  df_final['Data Cadastro Prazo'] = df_final['Data Cadastro Prazo'].dt.strftime(\"%d/%m/%Y\")\n"
     ]
    }
   ],
   "source": [
    "df_final['Data Cadastro Prazo'] = df_final['Data Cadastro Prazo'].dt.strftime(\"%d/%m/%Y\")"
   ]
  },
  {
   "cell_type": "code",
   "execution_count": 138,
   "metadata": {},
   "outputs": [
    {
     "name": "stderr",
     "output_type": "stream",
     "text": [
      "C:\\Users\\victoramarante\\AppData\\Local\\Temp\\ipykernel_14968\\4244949419.py:1: SettingWithCopyWarning: \n",
      "A value is trying to be set on a copy of a slice from a DataFrame.\n",
      "Try using .loc[row_indexer,col_indexer] = value instead\n",
      "\n",
      "See the caveats in the documentation: https://pandas.pydata.org/pandas-docs/stable/user_guide/indexing.html#returning-a-view-versus-a-copy\n",
      "  df_final['Data do Prazo'] = df_final.loc[:, ('Data do Prazo')].dt.strftime(\"%d/%m/%Y\")\n"
     ]
    }
   ],
   "source": [
    "df_final['Data do Prazo'] = df_final.loc[:, ('Data do Prazo')].dt.strftime(\"%d/%m/%Y\")"
   ]
  },
  {
   "cell_type": "code",
   "execution_count": null,
   "metadata": {},
   "outputs": [],
   "source": [
    "df_final['Data Inicio Compromisso'] = df_final.loc[df_final['Data Inicio Compromisso']].dt.strftime(\"%d/%m/%Y\")"
   ]
  },
  {
   "cell_type": "code",
   "execution_count": 155,
   "metadata": {},
   "outputs": [
    {
     "data": {
      "text/html": [
       "<div>\n",
       "<style scoped>\n",
       "    .dataframe tbody tr th:only-of-type {\n",
       "        vertical-align: middle;\n",
       "    }\n",
       "\n",
       "    .dataframe tbody tr th {\n",
       "        vertical-align: top;\n",
       "    }\n",
       "\n",
       "    .dataframe thead th {\n",
       "        text-align: right;\n",
       "    }\n",
       "</style>\n",
       "<table border=\"1\" class=\"dataframe\">\n",
       "  <thead>\n",
       "    <tr style=\"text-align: right;\">\n",
       "      <th></th>\n",
       "      <th>ID Processo</th>\n",
       "      <th>ID Prazo</th>\n",
       "      <th>Data Cadastro Prazo</th>\n",
       "      <th>Data do Prazo</th>\n",
       "      <th>Hora do Prazo</th>\n",
       "      <th>Tipo de Atividade</th>\n",
       "      <th>Sub Tipo Compromisso</th>\n",
       "      <th>Parte Cliente</th>\n",
       "      <th>Parte Adversa</th>\n",
       "      <th>Número do Processo</th>\n",
       "      <th>...</th>\n",
       "      <th>Tem serviço contratado?</th>\n",
       "      <th>Id serviço</th>\n",
       "      <th>Tipo</th>\n",
       "      <th>Subtipo do serviço</th>\n",
       "      <th>Data da contratação</th>\n",
       "      <th>Hora da contratação</th>\n",
       "      <th>Status do serviço</th>\n",
       "      <th>Status Sugestão alteração/cancelamento</th>\n",
       "      <th>Vinculado ao Recurso?</th>\n",
       "      <th>ID Recurso</th>\n",
       "    </tr>\n",
       "  </thead>\n",
       "  <tbody>\n",
       "    <tr>\n",
       "      <th>0</th>\n",
       "      <td>510525</td>\n",
       "      <td>5328672</td>\n",
       "      <td>13/02/2023</td>\n",
       "      <td>15/02/2023</td>\n",
       "      <td>00:00:00</td>\n",
       "      <td>Prazo</td>\n",
       "      <td>Memoriais</td>\n",
       "      <td>IPIRANGA PRODUTOS DE PETROLEO</td>\n",
       "      <td>ANTONIO MADSON AREIAS DA SILVA</td>\n",
       "      <td>0000581-67.2020.5.08.0001</td>\n",
       "      <td>...</td>\n",
       "      <td>Não</td>\n",
       "      <td>NaN</td>\n",
       "      <td>NaN</td>\n",
       "      <td>NaN</td>\n",
       "      <td>NaN</td>\n",
       "      <td>NaN</td>\n",
       "      <td>NaN</td>\n",
       "      <td>NaN</td>\n",
       "      <td>Nao</td>\n",
       "      <td>0</td>\n",
       "    </tr>\n",
       "    <tr>\n",
       "      <th>1</th>\n",
       "      <td>843885</td>\n",
       "      <td>5332972</td>\n",
       "      <td>13/02/2023</td>\n",
       "      <td>25/05/2023</td>\n",
       "      <td>11:10:00</td>\n",
       "      <td>Prazo</td>\n",
       "      <td>Contestação - Com Audiência</td>\n",
       "      <td>VIA VAREJO ONLINE</td>\n",
       "      <td>ADELMO AVELINO PEREIRA</td>\n",
       "      <td>0022912-70.2023.8.05.0001</td>\n",
       "      <td>...</td>\n",
       "      <td>Não</td>\n",
       "      <td>NaN</td>\n",
       "      <td>NaN</td>\n",
       "      <td>NaN</td>\n",
       "      <td>NaN</td>\n",
       "      <td>NaN</td>\n",
       "      <td>NaN</td>\n",
       "      <td>NaN</td>\n",
       "      <td>Nao</td>\n",
       "      <td>0</td>\n",
       "    </tr>\n",
       "    <tr>\n",
       "      <th>2</th>\n",
       "      <td>843659</td>\n",
       "      <td>5329501</td>\n",
       "      <td>13/02/2023</td>\n",
       "      <td>27/03/2023</td>\n",
       "      <td>16:00:00</td>\n",
       "      <td>Prazo</td>\n",
       "      <td>Contestação - Com Audiência</td>\n",
       "      <td>Via Varejo S/A</td>\n",
       "      <td>ADAILTON SALES DE OLIVEIRA</td>\n",
       "      <td>0022202-50.2023.8.05.0001</td>\n",
       "      <td>...</td>\n",
       "      <td>Não</td>\n",
       "      <td>NaN</td>\n",
       "      <td>NaN</td>\n",
       "      <td>NaN</td>\n",
       "      <td>NaN</td>\n",
       "      <td>NaN</td>\n",
       "      <td>NaN</td>\n",
       "      <td>NaN</td>\n",
       "      <td>Nao</td>\n",
       "      <td>0</td>\n",
       "    </tr>\n",
       "    <tr>\n",
       "      <th>3</th>\n",
       "      <td>843665</td>\n",
       "      <td>5329623</td>\n",
       "      <td>13/02/2023</td>\n",
       "      <td>22/05/2023</td>\n",
       "      <td>08:50:00</td>\n",
       "      <td>Prazo</td>\n",
       "      <td>Contestação - Com Audiência</td>\n",
       "      <td>Via Varejo S/A</td>\n",
       "      <td>GEDEVAL RAMOS DE JESUS FILHO</td>\n",
       "      <td>0021328-65.2023.8.05.0001</td>\n",
       "      <td>...</td>\n",
       "      <td>Não</td>\n",
       "      <td>NaN</td>\n",
       "      <td>NaN</td>\n",
       "      <td>NaN</td>\n",
       "      <td>NaN</td>\n",
       "      <td>NaN</td>\n",
       "      <td>NaN</td>\n",
       "      <td>NaN</td>\n",
       "      <td>Nao</td>\n",
       "      <td>0</td>\n",
       "    </tr>\n",
       "    <tr>\n",
       "      <th>4</th>\n",
       "      <td>843441</td>\n",
       "      <td>5327649</td>\n",
       "      <td>13/02/2023</td>\n",
       "      <td>17/03/2023</td>\n",
       "      <td>10:10:00</td>\n",
       "      <td>Prazo</td>\n",
       "      <td>Contestação - Com Audiência</td>\n",
       "      <td>Via Varejo S/A</td>\n",
       "      <td>ELICLEIA BARBOSA DOS SANTOS</td>\n",
       "      <td>0003025-57.2023.8.05.0080</td>\n",
       "      <td>...</td>\n",
       "      <td>Não</td>\n",
       "      <td>NaN</td>\n",
       "      <td>NaN</td>\n",
       "      <td>NaN</td>\n",
       "      <td>NaN</td>\n",
       "      <td>NaN</td>\n",
       "      <td>NaN</td>\n",
       "      <td>NaN</td>\n",
       "      <td>Nao</td>\n",
       "      <td>0</td>\n",
       "    </tr>\n",
       "  </tbody>\n",
       "</table>\n",
       "<p>5 rows × 59 columns</p>\n",
       "</div>"
      ],
      "text/plain": [
       "   ID Processo  ID Prazo Data Cadastro Prazo Data do Prazo Hora do Prazo  \\\n",
       "0       510525   5328672          13/02/2023    15/02/2023      00:00:00   \n",
       "1       843885   5332972          13/02/2023    25/05/2023      11:10:00   \n",
       "2       843659   5329501          13/02/2023    27/03/2023      16:00:00   \n",
       "3       843665   5329623          13/02/2023    22/05/2023      08:50:00   \n",
       "4       843441   5327649          13/02/2023    17/03/2023      10:10:00   \n",
       "\n",
       "  Tipo de Atividade         Sub Tipo Compromisso  \\\n",
       "0             Prazo                    Memoriais   \n",
       "1             Prazo  Contestação - Com Audiência   \n",
       "2             Prazo  Contestação - Com Audiência   \n",
       "3             Prazo  Contestação - Com Audiência   \n",
       "4             Prazo  Contestação - Com Audiência   \n",
       "\n",
       "                   Parte Cliente                   Parte Adversa  \\\n",
       "0  IPIRANGA PRODUTOS DE PETROLEO  ANTONIO MADSON AREIAS DA SILVA   \n",
       "1             VIA VAREJO ONLINE           ADELMO AVELINO PEREIRA   \n",
       "2                 Via Varejo S/A      ADAILTON SALES DE OLIVEIRA   \n",
       "3                 Via Varejo S/A    GEDEVAL RAMOS DE JESUS FILHO   \n",
       "4                 Via Varejo S/A     ELICLEIA BARBOSA DOS SANTOS   \n",
       "\n",
       "          Número do Processo  ... Tem serviço contratado? Id serviço Tipo  \\\n",
       "0  0000581-67.2020.5.08.0001  ...                     Não        NaN  NaN   \n",
       "1  0022912-70.2023.8.05.0001  ...                     Não        NaN  NaN   \n",
       "2  0022202-50.2023.8.05.0001  ...                     Não        NaN  NaN   \n",
       "3  0021328-65.2023.8.05.0001  ...                     Não        NaN  NaN   \n",
       "4  0003025-57.2023.8.05.0080  ...                     Não        NaN  NaN   \n",
       "\n",
       "  Subtipo do serviço Data da contratação Hora da contratação  \\\n",
       "0                NaN                 NaN                 NaN   \n",
       "1                NaN                 NaN                 NaN   \n",
       "2                NaN                 NaN                 NaN   \n",
       "3                NaN                 NaN                 NaN   \n",
       "4                NaN                 NaN                 NaN   \n",
       "\n",
       "  Status do serviço Status Sugestão alteração/cancelamento  \\\n",
       "0               NaN                                    NaN   \n",
       "1               NaN                                    NaN   \n",
       "2               NaN                                    NaN   \n",
       "3               NaN                                    NaN   \n",
       "4               NaN                                    NaN   \n",
       "\n",
       "  Vinculado ao Recurso? ID Recurso  \n",
       "0                   Nao          0  \n",
       "1                   Nao          0  \n",
       "2                   Nao          0  \n",
       "3                   Nao          0  \n",
       "4                   Nao          0  \n",
       "\n",
       "[5 rows x 59 columns]"
      ]
     },
     "execution_count": 155,
     "metadata": {},
     "output_type": "execute_result"
    }
   ],
   "source": [
    "df_final.head()"
   ]
  },
  {
   "cell_type": "code",
   "execution_count": 24,
   "metadata": {},
   "outputs": [
    {
     "ename": "TypeError",
     "evalue": "strptime() argument 1 must be str, not numpy.ndarray",
     "output_type": "error",
     "traceback": [
      "\u001b[1;31m---------------------------------------------------------------------------\u001b[0m",
      "\u001b[1;31mTypeError\u001b[0m                                 Traceback (most recent call last)",
      "Cell \u001b[1;32mIn[24], line 2\u001b[0m\n\u001b[0;32m      1\u001b[0m \u001b[39mfor\u001b[39;00m i \u001b[39min\u001b[39;00m colunas_datas:\n\u001b[1;32m----> 2\u001b[0m     df_final[i] \u001b[39m=\u001b[39m datetime\u001b[39m.\u001b[39;49mstrptime(df[i]\u001b[39m.\u001b[39;49mvalues, \u001b[39m'\u001b[39;49m\u001b[39m%\u001b[39;49m\u001b[39mY-\u001b[39;49m\u001b[39m%\u001b[39;49m\u001b[39mm-\u001b[39;49m\u001b[39m%d\u001b[39;49;00m\u001b[39m'\u001b[39;49m)\n\u001b[0;32m      3\u001b[0m     df_final[i] \u001b[39m=\u001b[39mdatetime\u001b[39m.\u001b[39mstrftime(\u001b[39m'\u001b[39m\u001b[39m%d\u001b[39;00m\u001b[39m/\u001b[39m\u001b[39m%\u001b[39m\u001b[39mm/\u001b[39m\u001b[39m%\u001b[39m\u001b[39mY\u001b[39m\u001b[39m'\u001b[39m)\n",
      "\u001b[1;31mTypeError\u001b[0m: strptime() argument 1 must be str, not numpy.ndarray"
     ]
    }
   ],
   "source": [
    "for i in colunas_datas:\n",
    "    df_final[i] = datetime.strptime(df[i].values, '%Y-%m-%d')\n",
    "    df_final[i] =datetime.strftime('%d/%m/%Y')"
   ]
  },
  {
   "cell_type": "code",
   "execution_count": 21,
   "metadata": {},
   "outputs": [
    {
     "data": {
      "text/html": [
       "<div>\n",
       "<style scoped>\n",
       "    .dataframe tbody tr th:only-of-type {\n",
       "        vertical-align: middle;\n",
       "    }\n",
       "\n",
       "    .dataframe tbody tr th {\n",
       "        vertical-align: top;\n",
       "    }\n",
       "\n",
       "    .dataframe thead th {\n",
       "        text-align: right;\n",
       "    }\n",
       "</style>\n",
       "<table border=\"1\" class=\"dataframe\">\n",
       "  <thead>\n",
       "    <tr style=\"text-align: right;\">\n",
       "      <th></th>\n",
       "      <th>ID Processo</th>\n",
       "      <th>ID Prazo</th>\n",
       "      <th>Data Cadastro Prazo</th>\n",
       "      <th>Data do Prazo</th>\n",
       "      <th>Hora do Prazo</th>\n",
       "      <th>Tipo de Atividade</th>\n",
       "      <th>Sub Tipo Compromisso</th>\n",
       "      <th>Parte Cliente</th>\n",
       "      <th>Parte Adversa</th>\n",
       "      <th>Número do Processo</th>\n",
       "      <th>...</th>\n",
       "      <th>Tem serviço contratado?</th>\n",
       "      <th>Id serviço</th>\n",
       "      <th>Tipo</th>\n",
       "      <th>Subtipo do serviço</th>\n",
       "      <th>Data da contratação</th>\n",
       "      <th>Hora da contratação</th>\n",
       "      <th>Status do serviço</th>\n",
       "      <th>Status Sugestão alteração/cancelamento</th>\n",
       "      <th>Vinculado ao Recurso?</th>\n",
       "      <th>ID Recurso</th>\n",
       "    </tr>\n",
       "  </thead>\n",
       "  <tbody>\n",
       "    <tr>\n",
       "      <th>0</th>\n",
       "      <td>510525</td>\n",
       "      <td>5328672</td>\n",
       "      <td>2023-02-13</td>\n",
       "      <td>2023-02-15</td>\n",
       "      <td>00:00:00</td>\n",
       "      <td>Prazo</td>\n",
       "      <td>Memoriais</td>\n",
       "      <td>IPIRANGA PRODUTOS DE PETROLEO</td>\n",
       "      <td>ANTONIO MADSON AREIAS DA SILVA</td>\n",
       "      <td>0000581-67.2020.5.08.0001</td>\n",
       "      <td>...</td>\n",
       "      <td>Não</td>\n",
       "      <td>NaN</td>\n",
       "      <td>NaN</td>\n",
       "      <td>NaN</td>\n",
       "      <td>NaT</td>\n",
       "      <td>NaN</td>\n",
       "      <td>NaN</td>\n",
       "      <td>NaN</td>\n",
       "      <td>Nao</td>\n",
       "      <td>0</td>\n",
       "    </tr>\n",
       "    <tr>\n",
       "      <th>1</th>\n",
       "      <td>843885</td>\n",
       "      <td>5332972</td>\n",
       "      <td>2023-02-13</td>\n",
       "      <td>2023-05-25</td>\n",
       "      <td>11:10:00</td>\n",
       "      <td>Prazo</td>\n",
       "      <td>Contestação - Com Audiência</td>\n",
       "      <td>VIA VAREJO ONLINE</td>\n",
       "      <td>ADELMO AVELINO PEREIRA</td>\n",
       "      <td>0022912-70.2023.8.05.0001</td>\n",
       "      <td>...</td>\n",
       "      <td>Não</td>\n",
       "      <td>NaN</td>\n",
       "      <td>NaN</td>\n",
       "      <td>NaN</td>\n",
       "      <td>NaT</td>\n",
       "      <td>NaN</td>\n",
       "      <td>NaN</td>\n",
       "      <td>NaN</td>\n",
       "      <td>Nao</td>\n",
       "      <td>0</td>\n",
       "    </tr>\n",
       "    <tr>\n",
       "      <th>2</th>\n",
       "      <td>843659</td>\n",
       "      <td>5329501</td>\n",
       "      <td>2023-02-13</td>\n",
       "      <td>2023-03-27</td>\n",
       "      <td>16:00:00</td>\n",
       "      <td>Prazo</td>\n",
       "      <td>Contestação - Com Audiência</td>\n",
       "      <td>Via Varejo S/A</td>\n",
       "      <td>ADAILTON SALES DE OLIVEIRA</td>\n",
       "      <td>0022202-50.2023.8.05.0001</td>\n",
       "      <td>...</td>\n",
       "      <td>Não</td>\n",
       "      <td>NaN</td>\n",
       "      <td>NaN</td>\n",
       "      <td>NaN</td>\n",
       "      <td>NaT</td>\n",
       "      <td>NaN</td>\n",
       "      <td>NaN</td>\n",
       "      <td>NaN</td>\n",
       "      <td>Nao</td>\n",
       "      <td>0</td>\n",
       "    </tr>\n",
       "    <tr>\n",
       "      <th>3</th>\n",
       "      <td>843665</td>\n",
       "      <td>5329623</td>\n",
       "      <td>2023-02-13</td>\n",
       "      <td>2023-05-22</td>\n",
       "      <td>08:50:00</td>\n",
       "      <td>Prazo</td>\n",
       "      <td>Contestação - Com Audiência</td>\n",
       "      <td>Via Varejo S/A</td>\n",
       "      <td>GEDEVAL RAMOS DE JESUS FILHO</td>\n",
       "      <td>0021328-65.2023.8.05.0001</td>\n",
       "      <td>...</td>\n",
       "      <td>Não</td>\n",
       "      <td>NaN</td>\n",
       "      <td>NaN</td>\n",
       "      <td>NaN</td>\n",
       "      <td>NaT</td>\n",
       "      <td>NaN</td>\n",
       "      <td>NaN</td>\n",
       "      <td>NaN</td>\n",
       "      <td>Nao</td>\n",
       "      <td>0</td>\n",
       "    </tr>\n",
       "    <tr>\n",
       "      <th>4</th>\n",
       "      <td>843441</td>\n",
       "      <td>5327649</td>\n",
       "      <td>2023-02-13</td>\n",
       "      <td>2023-03-17</td>\n",
       "      <td>10:10:00</td>\n",
       "      <td>Prazo</td>\n",
       "      <td>Contestação - Com Audiência</td>\n",
       "      <td>Via Varejo S/A</td>\n",
       "      <td>ELICLEIA BARBOSA DOS SANTOS</td>\n",
       "      <td>0003025-57.2023.8.05.0080</td>\n",
       "      <td>...</td>\n",
       "      <td>Não</td>\n",
       "      <td>NaN</td>\n",
       "      <td>NaN</td>\n",
       "      <td>NaN</td>\n",
       "      <td>NaT</td>\n",
       "      <td>NaN</td>\n",
       "      <td>NaN</td>\n",
       "      <td>NaN</td>\n",
       "      <td>Nao</td>\n",
       "      <td>0</td>\n",
       "    </tr>\n",
       "  </tbody>\n",
       "</table>\n",
       "<p>5 rows × 59 columns</p>\n",
       "</div>"
      ],
      "text/plain": [
       "   ID Processo  ID Prazo Data Cadastro Prazo Data do Prazo Hora do Prazo  \\\n",
       "0       510525   5328672          2023-02-13    2023-02-15      00:00:00   \n",
       "1       843885   5332972          2023-02-13    2023-05-25      11:10:00   \n",
       "2       843659   5329501          2023-02-13    2023-03-27      16:00:00   \n",
       "3       843665   5329623          2023-02-13    2023-05-22      08:50:00   \n",
       "4       843441   5327649          2023-02-13    2023-03-17      10:10:00   \n",
       "\n",
       "  Tipo de Atividade         Sub Tipo Compromisso  \\\n",
       "0             Prazo                    Memoriais   \n",
       "1             Prazo  Contestação - Com Audiência   \n",
       "2             Prazo  Contestação - Com Audiência   \n",
       "3             Prazo  Contestação - Com Audiência   \n",
       "4             Prazo  Contestação - Com Audiência   \n",
       "\n",
       "                   Parte Cliente                   Parte Adversa  \\\n",
       "0  IPIRANGA PRODUTOS DE PETROLEO  ANTONIO MADSON AREIAS DA SILVA   \n",
       "1             VIA VAREJO ONLINE           ADELMO AVELINO PEREIRA   \n",
       "2                 Via Varejo S/A      ADAILTON SALES DE OLIVEIRA   \n",
       "3                 Via Varejo S/A    GEDEVAL RAMOS DE JESUS FILHO   \n",
       "4                 Via Varejo S/A     ELICLEIA BARBOSA DOS SANTOS   \n",
       "\n",
       "          Número do Processo  ... Tem serviço contratado? Id serviço Tipo  \\\n",
       "0  0000581-67.2020.5.08.0001  ...                     Não        NaN  NaN   \n",
       "1  0022912-70.2023.8.05.0001  ...                     Não        NaN  NaN   \n",
       "2  0022202-50.2023.8.05.0001  ...                     Não        NaN  NaN   \n",
       "3  0021328-65.2023.8.05.0001  ...                     Não        NaN  NaN   \n",
       "4  0003025-57.2023.8.05.0080  ...                     Não        NaN  NaN   \n",
       "\n",
       "  Subtipo do serviço Data da contratação Hora da contratação  \\\n",
       "0                NaN                 NaT                 NaN   \n",
       "1                NaN                 NaT                 NaN   \n",
       "2                NaN                 NaT                 NaN   \n",
       "3                NaN                 NaT                 NaN   \n",
       "4                NaN                 NaT                 NaN   \n",
       "\n",
       "  Status do serviço Status Sugestão alteração/cancelamento  \\\n",
       "0               NaN                                    NaN   \n",
       "1               NaN                                    NaN   \n",
       "2               NaN                                    NaN   \n",
       "3               NaN                                    NaN   \n",
       "4               NaN                                    NaN   \n",
       "\n",
       "  Vinculado ao Recurso? ID Recurso  \n",
       "0                   Nao          0  \n",
       "1                   Nao          0  \n",
       "2                   Nao          0  \n",
       "3                   Nao          0  \n",
       "4                   Nao          0  \n",
       "\n",
       "[5 rows x 59 columns]"
      ]
     },
     "execution_count": 21,
     "metadata": {},
     "output_type": "execute_result"
    }
   ],
   "source": [
    "df_final.head()"
   ]
  },
  {
   "cell_type": "code",
   "execution_count": null,
   "metadata": {},
   "outputs": [],
   "source": [
    "# df_final['Data Cadastro Prazo'] = pd.to_datetime(df['Data Cadastro Prazo'], format='%Y-%m-%d', errors='coerce')\n",
    "# df_final['Data Cadastro Prazo'] = df['Data Cadastro Prazo'].dt.strftime('%d/%m/%Y')"
   ]
  },
  {
   "cell_type": "code",
   "execution_count": null,
   "metadata": {},
   "outputs": [],
   "source": [
    "for i in colunas_datas:\n",
    "    print(i)"
   ]
  },
  {
   "cell_type": "code",
   "execution_count": null,
   "metadata": {},
   "outputs": [],
   "source": [
    "df_final.to_excel(f'BASE_TRATADA_AGENDADOS_{hoje}.xlsx', index=False, engine='openpyxl')"
   ]
  },
  {
   "cell_type": "code",
   "execution_count": null,
   "metadata": {},
   "outputs": [],
   "source": [
    "tratamento_prazos_diarios('base1302_agendados.xlsx',\n",
    "    'centro_de_custo.xlsx')"
   ]
  },
  {
   "cell_type": "code",
   "execution_count": null,
   "metadata": {},
   "outputs": [],
   "source": []
  }
 ],
 "metadata": {
  "kernelspec": {
   "display_name": "Python 3",
   "language": "python",
   "name": "python3"
  },
  "language_info": {
   "codemirror_mode": {
    "name": "ipython",
    "version": 3
   },
   "file_extension": ".py",
   "mimetype": "text/x-python",
   "name": "python",
   "nbconvert_exporter": "python",
   "pygments_lexer": "ipython3",
   "version": "3.11.0"
  },
  "orig_nbformat": 4,
  "vscode": {
   "interpreter": {
    "hash": "6b260d1f00f75eda807bbeaec3f3d277521ce631ca663ed2316176c028acb387"
   }
  }
 },
 "nbformat": 4,
 "nbformat_minor": 2
}
