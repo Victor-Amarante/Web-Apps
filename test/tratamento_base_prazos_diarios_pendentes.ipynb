{
 "cells": [
  {
   "cell_type": "code",
   "execution_count": 2,
   "metadata": {},
   "outputs": [],
   "source": [
    "import pandas as pd\n",
    "import numpy as np\n",
    "from datetime import date, time, datetime, timedelta"
   ]
  },
  {
   "cell_type": "code",
   "execution_count": 6,
   "metadata": {},
   "outputs": [
    {
     "name": "stderr",
     "output_type": "stream",
     "text": [
      "c:\\Users\\victoramarante\\AppData\\Local\\Programs\\Python\\Python311\\Lib\\site-packages\\openpyxl\\styles\\stylesheet.py:226: UserWarning: Workbook contains no default style, apply openpyxl's default\n",
      "  warn(\"Workbook contains no default style, apply openpyxl's default\")\n"
     ]
    }
   ],
   "source": [
    "df2 = pd.read_excel('base1302_pendentes.xlsx')\n",
    "\n",
    "hoje = date.today()\n",
    "\n",
    "df2 = df2.drop(['NPC', 'Número do Órgão', 'Sistema Acompanhamento', 'Responsável Cancelamento',\n",
    "                          'ID Obrigação', 'Observação ', 'Observação da conclusão', 'Projeto', 'Link de Acesso à Audiência'], axis=1)   # dropando as colunas desnecessarias\n",
    "# criacao de novas colunas vazias para colocar entre as colunas id prazo origem e tem servico contratado\n",
    "df2[' '] = ' '\n",
    "df2[' '] = ' '\n",
    "# selecionar o tipo de atividade = diligencia e nao selecionar os protocolos e apagar todas as linhas\n",
    "df2_remove = df2[(df2['Tipo de Atividade'] == 'Diligência') &\n",
    "    (df2['Sub Tipo Compromisso'].str.contains('Protocolo') == False)]\n",
    "\n",
    "df2 = df2.drop(df2_remove.index)\n",
    "centro_custo = pd.read_excel('centro_de_custo.xlsx', engine='openpyxl')\n",
    "df2_ajustado = pd.merge(df2, centro_custo, on='Célula', how='left')\n",
    "df2_ajustado.drop(['Centro de Custo_x', 'Gestor', 'Diretoria', 'Escritorio'], axis=1, inplace=True)\n",
    "\n",
    "df2_ajustado = df2_ajustado[['ID Processo', 'ID Prazo', 'Data Cadastro Prazo', 'Data do Prazo','Hora do Prazo', 'Tipo de Atividade', 'Sub Tipo Compromisso','Parte Cliente', 'Parte Adversa', 'Número do Processo', 'Órgão',\n",
    "       'Comarca', 'UF', 'Tipo de Processo', 'Sistema Eletrônico','Status do Prazo', 'Data Inicio Compromisso', 'Data Conclusão','Data Protocolo', 'Data Auditoria Protocolo', 'Prazo para Protocolo',\n",
    "       'Data Prazo Automático', 'Data Revisão', 'Prazo Revisão','Data de Reprovação', 'Data Cancelamento','Motivo do cancelamento do Agendamento', 'Observação de Cancelamento',\n",
    "       'Fase', 'Estratégia', 'Objeto', 'Sub-Objeto', 'Produto','Adv. Responsável Processo', 'Responsável Cadastro','Responsavel Prazo', 'Responsável Revisão', 'Responsável Conclusão',\n",
    "       'Responsável Protocolo', 'Responsável Auditoria Protocolo', 'Célula','Centro de Custo_y','Cliente', 'Segmento', 'Forma Abertura', 'ID PA', 'ID Prazo Origem',\n",
    "       ' ', ' ', 'Tem serviço contratado?', 'Id serviço', 'Tipo','Subtipo do serviço', 'Data da contratação', 'Hora da contratação','Status do serviço', 'Status Sugestão alteração/cancelamento',\n",
    "       'Vinculado ao Recurso?', 'ID Recurso']]\n",
    "\n",
    "df2_ajustado.rename(columns = {'Centro de Custo_y': 'Centro de Custo'}, inplace=True)\n",
    "\n",
    "# Acrescentar \"Administração Judicial\" que não estará mais presente no escritório\n",
    "df2_final = df2_ajustado[(df2_ajustado['Centro de Custo'] != 'AMBEV') &\n",
    "            (df2_ajustado['Centro de Custo'] != 'CCB MASSIFICADO') &\n",
    "            (df2_ajustado['Centro de Custo'] != 'Apresentação QCA') &\n",
    "            (df2_ajustado['Centro de Custo'] != 'EQUIPE PARAÍBA') &\n",
    "            (df2_ajustado['Centro de Custo'] != 'MONGERAL') &\n",
    "            (df2_ajustado['Centro de Custo'] != 'MARITIMO E PORTUARIO') &\n",
    "            (df2_ajustado['Centro de Custo'] != ' ')]\n",
    "\n",
    "# Filtragens das datas\n",
    "filtro1 = (((df2_final['Status do Prazo'] == 'Pendente') | (df2_final['Status do Prazo'] == 'Nao Protocolada')) & (df2_final['Data Prazo Automático'].isnull()))\n",
    "df2_final.loc[filtro1, \"Data Prazo Automático\"] = df2_final[\"Data do Prazo\"]\n",
    "\n",
    "filtro2 = df2_final['Status do Prazo'] == 'Pendente'\n",
    "df2_final.loc[filtro2, \"Data Prazo Automático\"] = df2_final[\"Data do Prazo\"]\n",
    "\n",
    "filtro3 = df2_final['Status do Prazo'] == 'Aguardando Auditoria'\n",
    "df2_final.loc[filtro3, \"Data Prazo Automático\"] = df2_final['Prazo para Protocolo'] + timedelta(days = 2)\n",
    "\n",
    "filtro4 = ((df2_final['Status do Prazo'] == 'Aguardando Revisão') & (df2_final['Prazo Revisão'] < pd.to_datetime(hoje)))\n",
    "df2_final.loc[filtro4, \"Data Prazo Automático\"] = df2_final['Prazo para Protocolo']\n",
    "\n",
    "filtro5 = ((df2_final['Status do Prazo'] == 'Aguardando Revisão') & (df2_final['Prazo Revisão'] >= pd.to_datetime(hoje)))\n",
    "df2_final.loc[filtro5, \"Data Prazo Automático\"] = df2_final['Prazo Revisão']\n",
    "\n",
    "# Fazer a filtragem das datas anteriores a 2020 e remover as linhas\n",
    "df_remove_data_under_2020 = df2_final['Data Prazo Automático'] < pd.to_datetime(date(2021,1,1))\n",
    "\n",
    "df2_final = df2_final.drop(df_remove_data_under_2020.index)\n",
    "\n",
    "# df2_final.to_excel(f'BASE_TRATADA_PENDENTES_{hoje}.xlsx', index=False)"
   ]
  },
  {
   "cell_type": "code",
   "execution_count": 113,
   "metadata": {},
   "outputs": [],
   "source": [
    "filtro4 = ((df2_final['Status do Prazo'] == 'Aguardando Revisão') & (df2_final['Prazo Revisão'] < pd.to_datetime(hoje)))\n",
    "df2_final.loc[filtro4, \"Data Prazo Automático\"] = df2_final['Prazo para Protocolo']"
   ]
  },
  {
   "cell_type": "code",
   "execution_count": 5,
   "metadata": {},
   "outputs": [
    {
     "data": {
      "text/plain": [
       "0        False\n",
       "1        False\n",
       "2        False\n",
       "3        False\n",
       "4        False\n",
       "         ...  \n",
       "19677    False\n",
       "19678    False\n",
       "19679    False\n",
       "19680    False\n",
       "19681    False\n",
       "Name: Data Prazo Automático, Length: 19610, dtype: bool"
      ]
     },
     "execution_count": 5,
     "metadata": {},
     "output_type": "execute_result"
    }
   ],
   "source": [
    "df2_final['Data Prazo Automático'] < pd.to_datetime(date(2021,1,1))"
   ]
  },
  {
   "cell_type": "code",
   "execution_count": 133,
   "metadata": {},
   "outputs": [
    {
     "data": {
      "text/plain": [
       "Timestamp('2021-12-31 00:00:00')"
      ]
     },
     "execution_count": 133,
     "metadata": {},
     "output_type": "execute_result"
    }
   ],
   "source": [
    "pd.to_datetime(datetime.date(2021,12,31))"
   ]
  },
  {
   "cell_type": "code",
   "execution_count": null,
   "metadata": {},
   "outputs": [],
   "source": []
  }
 ],
 "metadata": {
  "kernelspec": {
   "display_name": "Python 3",
   "language": "python",
   "name": "python3"
  },
  "language_info": {
   "codemirror_mode": {
    "name": "ipython",
    "version": 3
   },
   "file_extension": ".py",
   "mimetype": "text/x-python",
   "name": "python",
   "nbconvert_exporter": "python",
   "pygments_lexer": "ipython3",
   "version": "3.11.0"
  },
  "orig_nbformat": 4,
  "vscode": {
   "interpreter": {
    "hash": "6b260d1f00f75eda807bbeaec3f3d277521ce631ca663ed2316176c028acb387"
   }
  }
 },
 "nbformat": 4,
 "nbformat_minor": 2
}
